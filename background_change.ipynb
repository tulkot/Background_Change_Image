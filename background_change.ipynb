{
 "cells": [
  {
   "cell_type": "code",
   "execution_count": 1,
   "metadata": {},
   "outputs": [],
   "source": [
    "import pixellib"
   ]
  },
  {
   "cell_type": "code",
   "execution_count": 2,
   "metadata": {},
   "outputs": [],
   "source": [
    "from pixellib.tune_bg import alter_bg"
   ]
  },
  {
   "cell_type": "code",
   "execution_count": 12,
   "metadata": {},
   "outputs": [
    {
     "name": "stdout",
     "output_type": "stream",
     "text": [
      "WARNING:tensorflow:7 out of the last 7 calls to <function Model.make_predict_function.<locals>.predict_function at 0x000001D0EAC94438> triggered tf.function retracing. Tracing is expensive and the excessive number of tracings could be due to (1) creating @tf.function repeatedly in a loop, (2) passing tensors with different shapes, (3) passing Python objects instead of tensors. For (1), please define your @tf.function outside of the loop. For (2), @tf.function has experimental_relax_shapes=True option that relaxes argument shapes that can avoid unnecessary retracing. For (3), please refer to https://www.tensorflow.org/tutorials/customization/performance#python_or_tensor_args and https://www.tensorflow.org/api_docs/python/tf/function for  more details.\n"
     ]
    },
    {
     "data": {
      "text/plain": [
       "array([[[213, 223, 207],\n",
       "        [213, 223, 207],\n",
       "        [213, 223, 207],\n",
       "        ...,\n",
       "        [213, 223, 207],\n",
       "        [213, 223, 207],\n",
       "        [213, 223, 207]],\n",
       "\n",
       "       [[213, 223, 207],\n",
       "        [213, 223, 207],\n",
       "        [213, 223, 207],\n",
       "        ...,\n",
       "        [213, 223, 207],\n",
       "        [213, 223, 207],\n",
       "        [213, 223, 207]],\n",
       "\n",
       "       [[213, 223, 207],\n",
       "        [213, 223, 207],\n",
       "        [213, 223, 207],\n",
       "        ...,\n",
       "        [213, 223, 207],\n",
       "        [213, 223, 207],\n",
       "        [213, 223, 207]],\n",
       "\n",
       "       ...,\n",
       "\n",
       "       [[ 46,  42,  23],\n",
       "        [ 46,  42,  23],\n",
       "        [ 46,  42,  23],\n",
       "        ...,\n",
       "        [ 46,  42,  23],\n",
       "        [ 46,  42,  23],\n",
       "        [ 46,  42,  23]],\n",
       "\n",
       "       [[ 46,  42,  23],\n",
       "        [ 46,  42,  23],\n",
       "        [ 46,  42,  23],\n",
       "        ...,\n",
       "        [ 46,  42,  23],\n",
       "        [ 46,  42,  23],\n",
       "        [ 46,  42,  23]],\n",
       "\n",
       "       [[ 46,  42,  23],\n",
       "        [ 46,  42,  23],\n",
       "        [ 46,  42,  23],\n",
       "        ...,\n",
       "        [ 46,  42,  23],\n",
       "        [ 46,  42,  23],\n",
       "        [ 46,  42,  23]]], dtype=uint8)"
      ]
     },
     "execution_count": 12,
     "metadata": {},
     "output_type": "execute_result"
    }
   ],
   "source": [
    "change_bg = alter_bg()\n",
    "change_bg.load_pascalvoc_model(\"deeplabv3_xception_tf_dim_ordering_tf_kernels.h5\")\n",
    "change_bg.change_bg_img(f_image_path = \"tv.jpg\",b_image_path = \"mount.jpg\", output_image_name=\"new_tv.jpg\")"
   ]
  },
  {
   "cell_type": "code",
   "execution_count": 13,
   "metadata": {},
   "outputs": [
    {
     "name": "stdout",
     "output_type": "stream",
     "text": [
      "WARNING:tensorflow:8 out of the last 8 calls to <function Model.make_predict_function.<locals>.predict_function at 0x000001D0A3846318> triggered tf.function retracing. Tracing is expensive and the excessive number of tracings could be due to (1) creating @tf.function repeatedly in a loop, (2) passing tensors with different shapes, (3) passing Python objects instead of tensors. For (1), please define your @tf.function outside of the loop. For (2), @tf.function has experimental_relax_shapes=True option that relaxes argument shapes that can avoid unnecessary retracing. For (3), please refer to https://www.tensorflow.org/tutorials/customization/performance#python_or_tensor_args and https://www.tensorflow.org/api_docs/python/tf/function for  more details.\n"
     ]
    },
    {
     "data": {
      "text/plain": [
       "array([[[213, 223, 207],\n",
       "        [213, 223, 207],\n",
       "        [213, 223, 207],\n",
       "        ...,\n",
       "        [213, 223, 207],\n",
       "        [213, 223, 207],\n",
       "        [213, 223, 207]],\n",
       "\n",
       "       [[213, 223, 207],\n",
       "        [213, 223, 207],\n",
       "        [213, 223, 207],\n",
       "        ...,\n",
       "        [213, 223, 207],\n",
       "        [213, 223, 207],\n",
       "        [213, 223, 207]],\n",
       "\n",
       "       [[214, 224, 208],\n",
       "        [214, 224, 208],\n",
       "        [214, 224, 208],\n",
       "        ...,\n",
       "        [214, 224, 208],\n",
       "        [214, 224, 208],\n",
       "        [214, 224, 208]],\n",
       "\n",
       "       ...,\n",
       "\n",
       "       [[117, 119, 119],\n",
       "        [119, 121, 121],\n",
       "        [136, 138, 138],\n",
       "        ...,\n",
       "        [ 46,  42,  23],\n",
       "        [ 46,  42,  23],\n",
       "        [ 46,  42,  23]],\n",
       "\n",
       "       [[114, 116, 116],\n",
       "        [118, 120, 120],\n",
       "        [135, 137, 137],\n",
       "        ...,\n",
       "        [ 46,  42,  23],\n",
       "        [ 46,  42,  23],\n",
       "        [ 46,  42,  23]],\n",
       "\n",
       "       [[108, 110, 110],\n",
       "        [114, 116, 116],\n",
       "        [132, 134, 134],\n",
       "        ...,\n",
       "        [ 46,  42,  23],\n",
       "        [ 46,  42,  23],\n",
       "        [ 46,  42,  23]]], dtype=uint8)"
      ]
     },
     "execution_count": 13,
     "metadata": {},
     "output_type": "execute_result"
    }
   ],
   "source": [
    "change_bg = alter_bg()\n",
    "change_bg.load_pascalvoc_model(\"deeplabv3_xception_tf_dim_ordering_tf_kernels.h5\")\n",
    "change_bg.change_bg_img(f_image_path = \"brooklyn.jpg\",b_image_path = \"mount.jpg\", output_image_name=\"new_brook.jpg\")"
   ]
  },
  {
   "cell_type": "code",
   "execution_count": null,
   "metadata": {},
   "outputs": [],
   "source": []
  }
 ],
 "metadata": {
  "kernelspec": {
   "display_name": "Python 3",
   "language": "python",
   "name": "python3"
  },
  "language_info": {
   "codemirror_mode": {
    "name": "ipython",
    "version": 3
   },
   "file_extension": ".py",
   "mimetype": "text/x-python",
   "name": "python",
   "nbconvert_exporter": "python",
   "pygments_lexer": "ipython3",
   "version": "3.7.6"
  }
 },
 "nbformat": 4,
 "nbformat_minor": 4
}
